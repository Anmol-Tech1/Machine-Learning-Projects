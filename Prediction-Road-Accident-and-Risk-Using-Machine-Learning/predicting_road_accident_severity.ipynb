{
 "cells": [
  {
   "cell_type": "code",
   "execution_count": 1,
   "metadata": {
    "id": "wf1CDSUIJObS"
   },
   "outputs": [],
   "source": [
    "# importing processed csv file from google drive\n",
    "\n",
    "import pandas as pd"
   ]
  },
  {
   "cell_type": "code",
   "execution_count": 2,
   "metadata": {
    "id": "9oGLxMCGJwuC"
   },
   "outputs": [],
   "source": [
    "dataset = pd.read_csv('features_and_label_processed.csv')"
   ]
  },
  {
   "cell_type": "code",
   "execution_count": 3,
   "metadata": {
    "colab": {
     "base_uri": "https://localhost:8080/"
    },
    "id": "TJva3YgjJ-P8",
    "outputId": "73be9831-afad-4ae2-d7e0-cf3fc2c5161a"
   },
   "outputs": [
    {
     "name": "stdout",
     "output_type": "stream",
     "text": [
      "<class 'pandas.core.frame.DataFrame'>\n",
      "RangeIndex: 1534792 entries, 0 to 1534791\n",
      "Data columns (total 11 columns):\n",
      " #   Column                   Non-Null Count    Dtype  \n",
      "---  ------                   --------------    -----  \n",
      " 0   Longitude                1534792 non-null  float64\n",
      " 1   Latitude                 1534792 non-null  float64\n",
      " 2   Accident_Severity        1534792 non-null  int64  \n",
      " 3   Day_of_Week              1534792 non-null  int64  \n",
      " 4   Speed_limit              1534792 non-null  int64  \n",
      " 5   Light_Conditions         1534792 non-null  int64  \n",
      " 6   Weather_Conditions       1534792 non-null  int64  \n",
      " 7   Road_Surface_Conditions  1534792 non-null  int64  \n",
      " 8   Vehicle_Type             1534792 non-null  float64\n",
      " 9   Age_of_Driver            1534792 non-null  float64\n",
      " 10  Age_of_Vehicle           1534792 non-null  float64\n",
      "dtypes: float64(5), int64(6)\n",
      "memory usage: 128.8 MB\n"
     ]
    }
   ],
   "source": [
    "dataset.drop(\"Unnamed: 0\", axis=1, inplace=True)\n",
    "dataset.info()"
   ]
  },
  {
   "cell_type": "code",
   "execution_count": 4,
   "metadata": {
    "id": "PdTY1I4KKbUg"
   },
   "outputs": [],
   "source": [
    "# Machine learning\n",
    "\n",
    "from sklearn.model_selection import train_test_split\n",
    "from sklearn.ensemble import RandomForestClassifier\n",
    "from sklearn.metrics import accuracy_score\n",
    "from sklearn.metrics import classification_report \n"
   ]
  },
  {
   "cell_type": "code",
   "execution_count": 5,
   "metadata": {
    "id": "2-NLA7TfYY0I"
   },
   "outputs": [],
   "source": [
    "# splitting the data into features(X) and label (y)\n",
    "\n",
    "X = dataset.drop(\"Accident_Severity\", axis=1)\n",
    "y = dataset[\"Accident_Severity\"]\n",
    "\n",
    "# splitting the data into test and train\n",
    "X_train, X_test, y_train, y_test = train_test_split(X,\n",
    "                                                    y,\n",
    "                                                    test_size=0.2)\n"
   ]
  },
  {
   "cell_type": "code",
   "execution_count": 6,
   "metadata": {
    "id": "pw6oqayCZKWn"
   },
   "outputs": [
    {
     "data": {
      "text/plain": [
       "RandomForestClassifier()"
      ]
     },
     "execution_count": 6,
     "metadata": {},
     "output_type": "execute_result"
    }
   ],
   "source": [
    "r_f_classifier = RandomForestClassifier()\n",
    "\n",
    "r_f_classifier.fit(X_train, y_train)"
   ]
  },
  {
   "cell_type": "code",
   "execution_count": 7,
   "metadata": {
    "id": "0PY9mP9hcHk7"
   },
   "outputs": [
    {
     "data": {
      "text/plain": [
       "0.8632064868598086"
      ]
     },
     "execution_count": 7,
     "metadata": {},
     "output_type": "execute_result"
    }
   ],
   "source": [
    "# checking the accuracy of training data\n",
    "y_pred = r_f_classifier.predict(X_test)\n",
    "accuracy_score(y_test, y_pred)"
   ]
  },
  {
   "cell_type": "code",
   "execution_count": 8,
   "metadata": {
    "id": "5awF77CWfbwg"
   },
   "outputs": [
    {
     "data": {
      "text/plain": [
       "['random_forest_model.joblib']"
      ]
     },
     "execution_count": 8,
     "metadata": {},
     "output_type": "execute_result"
    }
   ],
   "source": [
    "# # saving a model using joblib\n",
    "\n",
    "from joblib import dump, load \n",
    "\n",
    "# save model to file \n",
    "dump(r_f_classifier, filename=\"random_forest_model.joblib\")"
   ]
  },
  {
   "cell_type": "code",
   "execution_count": 9,
   "metadata": {
    "id": "tDkLlCP7qKq6"
   },
   "outputs": [],
   "source": [
    "# load the saved model and make prediction\n",
    "from joblib import load\n",
    "loaded_model = load(filename=\"random_forest_model.joblib\")"
   ]
  },
  {
   "cell_type": "code",
   "execution_count": 10,
   "metadata": {
    "colab": {
     "base_uri": "https://localhost:8080/"
    },
    "id": "3EQQoar_Ls-h",
    "outputId": "5184c230-9354-4e39-918d-9fdfdbe10e77"
   },
   "outputs": [],
   "source": [
    "# predicting using the loaded model\n",
    "\n",
    "# X_test.columns"
   ]
  },
  {
   "cell_type": "code",
   "execution_count": 14,
   "metadata": {
    "id": "NQS2MMVuMBF4"
   },
   "outputs": [
    {
     "name": "stderr",
     "output_type": "stream",
     "text": [
      "C:\\Users\\Abhishek\\Desktop\\pilot_project\\venv\\lib\\site-packages\\sklearn\\base.py:488: FutureWarning: The feature names should match those that were passed during fit. Starting version 1.2, an error will be raised.\n",
      "Feature names unseen at fit time:\n",
      "- Day_of_week\n",
      "Feature names seen at fit time, yet now missing:\n",
      "- Day_of_Week\n",
      "\n",
      "  warnings.warn(message, FutureWarning)\n"
     ]
    }
   ],
   "source": [
    "import numpy as np\n",
    "import pandas as pd\n",
    "\n",
    "result = loaded_model.predict(pd.DataFrame(np.array([81.5555, 77.3435, 3,\n",
    "                                                     50, 3, 5, 3, 3, np.log(30), np.log(10)]).reshape(1,10), \n",
    "                                           columns=['Longitude',\n",
    "                                                    'Latitude',\n",
    "                                                    'Day_of_week',\n",
    "                                                    'Speed_limit',\n",
    "                                                    'Light_Conditions',\n",
    "                                                    'Weather_Conditions',\n",
    "                                                    'Road_Surface_Conditions',\n",
    "                                                    'Vehicle_Type',\n",
    "                                                    'Age_of_Driver',\n",
    "                                                    'Age_of_Vehicle']))"
   ]
  },
  {
   "cell_type": "code",
   "execution_count": 15,
   "metadata": {
    "colab": {
     "base_uri": "https://localhost:8080/"
    },
    "id": "WhjvZPzAes_2",
    "outputId": "4216c053-31b6-4266-c539-7518e08a8c34"
   },
   "outputs": [
    {
     "data": {
      "text/plain": [
       "3"
      ]
     },
     "execution_count": 15,
     "metadata": {},
     "output_type": "execute_result"
    }
   ],
   "source": [
    "result[0]"
   ]
  },
  {
   "cell_type": "code",
   "execution_count": 16,
   "metadata": {
    "colab": {
     "base_uri": "https://localhost:8080/"
    },
    "id": "B2eRGMVlMgFv",
    "outputId": "6b9b91fa-540d-4602-de90-de8cbefa32b6"
   },
   "outputs": [
    {
     "data": {
      "text/plain": [
       "array([3], dtype=int64)"
      ]
     },
     "execution_count": 16,
     "metadata": {},
     "output_type": "execute_result"
    }
   ],
   "source": [
    "result"
   ]
  },
  {
   "cell_type": "code",
   "execution_count": null,
   "metadata": {},
   "outputs": [],
   "source": []
  }
 ],
 "metadata": {
  "colab": {
   "collapsed_sections": [],
   "name": "predicting_road_accident_severity.ipynb",
   "provenance": []
  },
  "kernelspec": {
   "display_name": "Python 3 (ipykernel)",
   "language": "python",
   "name": "python3"
  },
  "language_info": {
   "codemirror_mode": {
    "name": "ipython",
    "version": 3
   },
   "file_extension": ".py",
   "mimetype": "text/x-python",
   "name": "python",
   "nbconvert_exporter": "python",
   "pygments_lexer": "ipython3",
   "version": "3.9.7"
  }
 },
 "nbformat": 4,
 "nbformat_minor": 1
}
